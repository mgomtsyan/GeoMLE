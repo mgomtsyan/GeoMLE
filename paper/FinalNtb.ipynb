{
 "cells": [
  {
   "cell_type": "code",
   "execution_count": 1,
   "metadata": {},
   "outputs": [],
   "source": [
    "%load_ext autoreload\n",
    "%autoreload 2\n",
    "\n",
    "import sys\n",
    "sys.path.append('..')\n",
    "import warnings\n",
    "if not sys.warnoptions:\n",
    "    warnings.simplefilter(\"ignore\")"
   ]
  },
  {
   "cell_type": "code",
   "execution_count": 2,
   "metadata": {},
   "outputs": [],
   "source": [
    "from joblib import delayed, Parallel, parallel_backend\n",
    "import time\n",
    "\n",
    "from operator import itemgetter\n",
    "ig0 = itemgetter(0)\n",
    "ig1 = itemgetter(1)\n",
    "ig2 = itemgetter(2)"
   ]
  },
  {
   "cell_type": "code",
   "execution_count": 3,
   "metadata": {},
   "outputs": [],
   "source": [
    "from geomle import DataGenerator, geomle, mle"
   ]
  },
  {
   "cell_type": "code",
   "execution_count": 4,
   "metadata": {},
   "outputs": [],
   "source": [
    "import rpy2\n",
    "import rpy2.robjects as ro\n",
    "from rpy2.robjects.numpy2ri import ri2py, py2ri\n",
    "from rpy2.robjects.packages import importr\n",
    "intdimr = importr('intrinsicDimension')\n",
    "r_base = importr('base')"
   ]
  },
  {
   "cell_type": "code",
   "execution_count": 5,
   "metadata": {},
   "outputs": [],
   "source": [
    "import numpy as np\n",
    "import pandas as pd\n",
    "from tqdm import tqdm"
   ]
  },
  {
   "cell_type": "code",
   "execution_count": 6,
   "metadata": {},
   "outputs": [],
   "source": [
    "from matplotlib import pyplot as plt\n",
    "%matplotlib inline"
   ]
  },
  {
   "cell_type": "code",
   "execution_count": 7,
   "metadata": {},
   "outputs": [],
   "source": [
    "def calculate_time(func): \n",
    "    def inner_func(*args, **kwargs): \n",
    "        begin = time.time() \n",
    "        res = func(*args, **kwargs) \n",
    "        end = time.time()\n",
    "        return res, end - begin\n",
    "    return inner_func"
   ]
  },
  {
   "cell_type": "code",
   "execution_count": 8,
   "metadata": {},
   "outputs": [],
   "source": [
    "k1_sigmoid = lambda x: int(round(20 / (1 + np.exp( -0.05 * x))))\n",
    "k2_sigmoid = lambda x: int(round(60 / (1 + np.exp( -0.03 * (x + 5)))))\n",
    "\n",
    "class DimEst():\n",
    "    def __init__(self):\n",
    "        self.names = ['MLE', 'GeoMLE', 'MIND', 'DANCo', 'ESS', 'PCA']\n",
    "    \n",
    "    def estimateAllMethod(self, data_py):\n",
    "        data_r = py2ri(data_py.values)\n",
    "        dim = data_py.shape[1]\n",
    "        self.funcs = {'MLE':          self.mle(data_py),\n",
    "                      'GeoMLE':       self.geomle(data_py, dim),\n",
    "                      'MIND':         self.mind_mlk(data_r, dim),\n",
    "                      'DANCo':        self.danco(data_r, dim),\n",
    "                      'ESS':          self.ess(data_r),\n",
    "                      'PCA':          self.pca(data_r)}\n",
    "        self.times = {key: ig1(val) for key, val in self.funcs.items()}\n",
    "        self.funcs = {key: ig0(val) for key, val in self.funcs.items()}\n",
    "        return self.funcs, self.times\n",
    "    \n",
    "    @staticmethod\n",
    "    @calculate_time\n",
    "    def mle(data):\n",
    "        return mle(data, k1=6, k2=20, average=True)[0].mean()\n",
    "    \n",
    "    @staticmethod\n",
    "    @calculate_time\n",
    "    def geomle(data, dim):\n",
    "        k1 =  k1_sigmoid(dim)\n",
    "        k2 =  k2_sigmoid(dim)\n",
    "        return geomle(data, k1=k1, k2=k2, nb_iter1=1).mean()\n",
    "    \n",
    "    @staticmethod\n",
    "    @calculate_time\n",
    "    def mind_mlk(data, dim):\n",
    "        return intdimr.dancoDimEst(data, k=10, D=dim, ver=\"MIND_MLk\").rx2('dim.est')[0]\n",
    "    \n",
    "    @staticmethod\n",
    "    @calculate_time\n",
    "    def danco(data, dim):\n",
    "        return intdimr.dancoDimEst(data, k=10, D=dim, ver=\"DANCo\").rx2('dim.est')[0]\n",
    "    \n",
    "    @staticmethod\n",
    "    @calculate_time\n",
    "    def ess(data):\n",
    "        return intdimr.essLocalDimEst(data).rx2('dim.est')[0]\n",
    "    \n",
    "    @staticmethod\n",
    "    @calculate_time\n",
    "    def pca(data):\n",
    "        return intdimr.pcaLocalDimEst(data, 'FO').rx2('dim.est')[0]"
   ]
  },
  {
   "cell_type": "code",
   "execution_count": 9,
   "metadata": {},
   "outputs": [],
   "source": [
    "DE = DimEst()"
   ]
  },
  {
   "cell_type": "code",
   "execution_count": 10,
   "metadata": {},
   "outputs": [],
   "source": [
    "DG = DataGenerator()"
   ]
  },
  {
   "cell_type": "code",
   "execution_count": 11,
   "metadata": {},
   "outputs": [
    {
     "data": {
      "text/plain": [
       "dict_keys(['Helix1d', 'Helix2d', 'Helicoid', 'Spiral', 'Roll', 'Scurve', 'Star', 'Moebius', 'Sphere', 'Norm', 'Uniform', 'Cubic', 'Affine_3to5', 'Affine', 'Nonlinear_4to6', 'Nonlinear', 'Paraboloid', 'Digits', 'Isomap', 'Hands', 'ISOLET', 'MNISTd'])"
      ]
     },
     "execution_count": 11,
     "metadata": {},
     "output_type": "execute_result"
    }
   ],
   "source": [
    "DG.dict_gen.keys()"
   ]
  },
  {
   "cell_type": "code",
   "execution_count": 12,
   "metadata": {},
   "outputs": [
    {
     "data": {
      "text/plain": [
       "{'MLE': 1.9811150903407768,\n",
       " 'GeoMLE': 2.0558635625126094,\n",
       " 'MIND': 2,\n",
       " 'DANCo': 2,\n",
       " 'ESS': 3.056625100274398,\n",
       " 'PCA': 3}"
      ]
     },
     "execution_count": 12,
     "metadata": {},
     "output_type": "execute_result"
    }
   ],
   "source": [
    "data = DG.gen_data('Sphere', 500, 3, 2)\n",
    "DE.estimateAllMethod(data)[0]"
   ]
  },
  {
   "cell_type": "markdown",
   "metadata": {},
   "source": [
    "## Decribing algorithm"
   ]
  },
  {
   "cell_type": "code",
   "execution_count": 13,
   "metadata": {},
   "outputs": [],
   "source": [
    "from sklearn.linear_model import Ridge"
   ]
  },
  {
   "cell_type": "code",
   "execution_count": 16,
   "metadata": {},
   "outputs": [],
   "source": [
    "df = []\n",
    "name = 'Sphere'\n",
    "N = 1000\n",
    "ds = [7, 8, 9]\n",
    "\n",
    "for d in ds:\n",
    "    data = DG.gen_data(name, N, d+1, d)\n",
    "    res, id_data = geomle(data, k1=10, k2=40, nb_iter1=1, debug=True)\n",
    "    df.append(id_data[0])"
   ]
  },
  {
   "cell_type": "code",
   "execution_count": 17,
   "metadata": {},
   "outputs": [
    {
     "data": {
      "image/png": "[encoded data removed]",
      "text/plain": [
       "<Figure size 720x576 with 1 Axes>"
      ]
     },
     "metadata": {
      "needs_background": "light"
     },
     "output_type": "display_data"
    }
   ],
   "source": [
    "f, ax = plt.subplots(1, 1, figsize=(10, 8))\n",
    "\n",
    "\n",
    "alpha_poly = (1, 2)\n",
    "alpha_reg = 5e-3\n",
    "\n",
    "cm = plt.cm.get_cmap('Set1', 10)\n",
    "save_data = []\n",
    "\n",
    "\n",
    "for i in range(len(df)):\n",
    "    gr_df = df[i].groupby(['k', 'idx']).mean().reset_index().groupby('k')\n",
    "\n",
    "    x = gr_df['R'].mean().values\n",
    "    y = gr_df['dim'].mean().values\n",
    "    w = gr_df['dim'].std().values * 0.2\n",
    "    save_data.append([x, y, w])\n",
    "    X = np.array([x ** i for i in alpha_poly]).T\n",
    "\n",
    "    xlin = np.linspace(0, x.max(), 100)\n",
    "    Xlin = np.array([xlin ** i for i in alpha_poly]).T\n",
    "    lm = Ridge(alpha=alpha_reg)\n",
    "    lm.fit(X, y)\n",
    "    #     x, y, color=cm(i))\n",
    "    plt.errorbar(x, y, w * 0.3, fmt='o', color=cm(i), capsize=3, capthick=0.5)\n",
    "    plt.plot(xlin, lm.predict(Xlin), color=cm(i))\n",
    "\n",
    "# ax.legend()\n",
    "ax.grid()\n",
    "plt.show()\n"
   ]
  },
  {
   "cell_type": "code",
   "execution_count": null,
   "metadata": {},
   "outputs": [],
   "source": [
    "np.save('exp.npy', save_data)"
   ]
  },
  {
   "cell_type": "markdown",
   "metadata": {},
   "source": [
    "## Density test"
   ]
  },
  {
   "cell_type": "code",
   "execution_count": 18,
   "metadata": {},
   "outputs": [],
   "source": [
    "def gen_sphere_data_with_distribution(n, dim, d, distrib):\n",
    "    if distrib == 'uniform':\n",
    "        V = np.random.randn(n,d + 1)\n",
    "    elif distrib == 'nonuniform':\n",
    "        V = (np.random.rand(n,d + 1) - 0.5) * 3\n",
    "    data = pd.DataFrame(np.hstack([V/np.sqrt(np.sum(V**2, axis=1))[:,None],\n",
    "                                          np.zeros((n, dim - d - 1))]))\n",
    "    assert data.shape == (n, dim)\n",
    "    return data"
   ]
  },
  {
   "cell_type": "code",
   "execution_count": 19,
   "metadata": {},
   "outputs": [
    {
     "data": {
      "image/png": "[encoded data removed]",
      "text/plain": [
       "<Figure size 720x360 with 2 Axes>"
      ]
     },
     "metadata": {
      "needs_background": "light"
     },
     "output_type": "display_data"
    }
   ],
   "source": [
    "plt.figure(figsize=(10, 5))\n",
    "plt.subplot(121)\n",
    "data = gen_sphere_data_with_distribution(5000, 5, 4, 'uniform')\n",
    "plt.hist2d(data[0], data[1], bins=30)\n",
    "\n",
    "plt.subplot(122)\n",
    "data = gen_sphere_data_with_distribution(5000, 5, 4, 'nonuniform')\n",
    "plt.hist2d(data[0], data[1], bins=30)\n",
    "\n",
    "plt.show()"
   ]
  },
  {
   "cell_type": "code",
   "execution_count": 21,
   "metadata": {},
   "outputs": [
    {
     "name": "stdout",
     "output_type": "stream",
     "text": [
      "Uniform\n",
      "MLE:    4.8311\n",
      "GeoMLE: 5.0961\n",
      "NonUniform\n",
      "MLE:    4.5838\n",
      "GeoMLE: 4.9490\n"
     ]
    }
   ],
   "source": [
    "res = []\n",
    "for i in range(10):\n",
    "    data = gen_sphere_data_with_distribution(1000, 7, 5, 'uniform')\n",
    "    res.append([mle(data)[0].mean(), geomle(data, nb_iter1=1, k1=10, k2=40)])\n",
    "                \n",
    "res = np.mean(res, axis=0)\n",
    "print('Uniform')\n",
    "print('MLE:    {:.4f}'.format(res[0]))\n",
    "print('GeoMLE: {:.4f}'.format(res[1]))\n",
    "\n",
    "\n",
    "res = []\n",
    "for i in range(10):\n",
    "    data = gen_sphere_data_with_distribution(1000, 7, 5, 'nonuniform')\n",
    "    res.append([mle(data)[0].mean(), geomle(data, nb_iter1=1, k1=10, k2=40)])\n",
    "                \n",
    "res = np.mean(res, axis=0)\n",
    "print('NonUniform')\n",
    "print('MLE:    {:.4f}'.format(res[0]))\n",
    "print('GeoMLE: {:.4f}'.format(res[1]))"
   ]
  },
  {
   "cell_type": "markdown",
   "metadata": {},
   "source": [
    "## Funcs"
   ]
  },
  {
   "cell_type": "code",
   "execution_count": 22,
   "metadata": {},
   "outputs": [],
   "source": [
    "def run_one_test(args):\n",
    "    try:\n",
    "        data = DG.gen_data(args['name'], args['N'], args['D'], args['d'], args['noise'])\n",
    "        res, t = DE.estimateAllMethod(data)\n",
    "        res['Dataset'] = args['name']\n",
    "        res['Num'] = args['N']\n",
    "        res['Dim'] = args['D']\n",
    "        res['RealDim'] = args['d']\n",
    "        return list(res.values()), list(t.values())\n",
    "    except:\n",
    "        print('WRONG with {}'.format(args))\n"
   ]
  },
  {
   "cell_type": "code",
   "execution_count": 23,
   "metadata": {},
   "outputs": [],
   "source": [
    "def run_test(func, steps, const_args, n_repetition, n_jobs):\n",
    "    with parallel_backend('multiprocessing'):\n",
    "        result = Parallel(n_jobs=n_jobs)(delayed(func)(add_args(const_args, step))\n",
    "                                 for step in tqdm(steps * n_repetition))\n",
    "    result = [i for i in result if i is not None]\n",
    "    times_res = np.array(list(map(ig1, result)))\n",
    "    dims_res = np.array(list(map(ig0, result)))\n",
    "    cols = DE.names + ['Dataset', 'Num', 'Dim', 'RealDim']\n",
    "    df = pd.DataFrame(dims_res, columns=cols)\n",
    "    df = df.set_index('Dataset').astype('float').reset_index()\n",
    "    return df"
   ]
  },
  {
   "cell_type": "markdown",
   "metadata": {},
   "source": [
    "## Dependacne of manifold dimension"
   ]
  },
  {
   "cell_type": "code",
   "execution_count": 24,
   "metadata": {},
   "outputs": [],
   "source": [
    "DE = DimEst()\n",
    "DG = DataGenerator()\n",
    "DG.dict_gen.keys()\n",
    "\n",
    "steps = np.arange(2, 100, 4).tolist()\n",
    "args = {'name': 'Sphere', 'D': 100,\n",
    "        'N': 1000, 'noise': 0}"
   ]
  },
  {
   "cell_type": "code",
   "execution_count": 25,
   "metadata": {},
   "outputs": [],
   "source": [
    "def add_args(const_args, step):\n",
    "    args = {**const_args}\n",
    "    args['d'] = step\n",
    "    assert len({'name', 'D', 'd', 'N', 'noise'} & set(args.keys())) == 5\n",
    "    return args"
   ]
  },
  {
   "cell_type": "code",
   "execution_count": 26,
   "metadata": {},
   "outputs": [
    {
     "name": "stderr",
     "output_type": "stream",
     "text": [
      "100%|██████████| 75/75 [02:00<00:00,  1.61s/it]\n"
     ]
    }
   ],
   "source": [
    "names = DE.names\n",
    "n_repetition = 3\n",
    "\n",
    "df = run_test(run_one_test, steps, args, n_repetition, 32)"
   ]
  },
  {
   "cell_type": "code",
   "execution_count": 27,
   "metadata": {},
   "outputs": [],
   "source": [
    "df_mean = df.groupby(['Dataset', 'Num', 'Dim', 'RealDim']).mean().reset_index()"
   ]
  },
  {
   "cell_type": "code",
   "execution_count": 28,
   "metadata": {},
   "outputs": [
    {
     "data": {
      "image/png": "[encoded data removed]",
      "text/plain": [
       "<Figure size 864x576 with 1 Axes>"
      ]
     },
     "metadata": {
      "needs_background": "light"
     },
     "output_type": "display_data"
    }
   ],
   "source": [
    "f, ax = plt.subplots(1, 1, figsize=(12, 8))\n",
    "\n",
    "for name in names:\n",
    "    ax.plot(df_mean['RealDim'], df_mean[name], label=name)\n",
    "    \n",
    "ax.legend()\n",
    "ax.grid()\n",
    "plt.show()"
   ]
  },
  {
   "cell_type": "markdown",
   "metadata": {},
   "source": [
    "## Dependacne of Num points"
   ]
  },
  {
   "cell_type": "code",
   "execution_count": 29,
   "metadata": {},
   "outputs": [],
   "source": [
    "DE = DimEst()\n",
    "DG = DataGenerator()"
   ]
  },
  {
   "cell_type": "code",
   "execution_count": 30,
   "metadata": {},
   "outputs": [
    {
     "data": {
      "text/plain": [
       "dict_keys(['Helix1d', 'Helix2d', 'Helicoid', 'Spiral', 'Roll', 'Scurve', 'Star', 'Moebius', 'Sphere', 'Norm', 'Uniform', 'Cubic', 'Affine_3to5', 'Affine', 'Nonlinear_4to6', 'Nonlinear', 'Paraboloid', 'Digits', 'Isomap', 'Hands', 'ISOLET', 'MNISTd'])"
      ]
     },
     "execution_count": 30,
     "metadata": {},
     "output_type": "execute_result"
    }
   ],
   "source": [
    "DG.dict_gen.keys()"
   ]
  },
  {
   "cell_type": "code",
   "execution_count": 31,
   "metadata": {},
   "outputs": [],
   "source": [
    "steps = [\n",
    "    ('Sphere',  5,  3),\n",
    "    ('Sphere',  10, 5),\n",
    "    ('Sphere',  15, 10),\n",
    "    ('Sphere',  35, 30),\n",
    "    ('Sphere',  55, 50),\n",
    "    ('Sphere',  75, 70),\n",
    "    \n",
    "    ('Affine_3to5',  5,  3),\n",
    "    ('Affine',       5,  5),\n",
    "    ('Affine',       10, 10),\n",
    "    ('Affine',       20, 20),\n",
    "    \n",
    "    ('Nonlinear_4to6',  6,  4),\n",
    "    ('Nonlinear',       8,  4),\n",
    "    ('Nonlinear',       36, 6),\n",
    "    ('Nonlinear',       64, 8),\n",
    "    ('Nonlinear',       72, 12),\n",
    "    \n",
    "    ('Spiral',   3,  1),\n",
    "    ('Spiral',   13, 1),\n",
    "    ('Helix1d',  3,  1),\n",
    "    ('Helix1d',  13, 1),\n",
    "    ('Helix2d',  3,  2),\n",
    "    ('Helix2d',  13, 2),\n",
    "    ('Helicoid', 3,  2),\n",
    "    ('Helicoid', 13, 2),\n",
    "    ('Roll',     3,  2),\n",
    "    ('Roll',     13, 2),\n",
    "    ('Scurve',   3,  2),\n",
    "    ('Scurve',   13, 2),\n",
    "    ('Moebius',  3,  2),\n",
    "    \n",
    "    ('Uniform', 10, 5),\n",
    "    ('Uniform', 15, 10),\n",
    "    ('Uniform', 35, 30),\n",
    "    ('Uniform', 55, 50),\n",
    "    ('Uniform', 75, 70),\n",
    "     \n",
    "    ('Norm', 20, 20),\n",
    "    ('Norm', 50, 20),\n",
    "    ('Norm', 50, 50),\n",
    "    ('Norm', 70, 50),\n",
    "    \n",
    "    ('Paraboloid', 12, 3),\n",
    "    ('Paraboloid', 21, 6),\n",
    "    ('Paraboloid', 30, 9),\n",
    "    ('Paraboloid', 39, 12),\n",
    "    ('Paraboloid', 48, 15),\n",
    "    \n",
    "    ('Cubic', 5,  3),\n",
    "    ('Cubic', 35, 30),\n",
    "    ('Cubic', 90, 70),\n",
    "]"
   ]
  },
  {
   "cell_type": "code",
   "execution_count": 32,
   "metadata": {},
   "outputs": [
    {
     "data": {
      "text/plain": [
       "45"
      ]
     },
     "execution_count": 32,
     "metadata": {},
     "output_type": "execute_result"
    }
   ],
   "source": [
    "len(steps)"
   ]
  },
  {
   "cell_type": "code",
   "execution_count": 33,
   "metadata": {},
   "outputs": [],
   "source": [
    "def add_args(const_args, step):\n",
    "    args = {}\n",
    "    args['N'] = const_args['N']\n",
    "    args['noise'] = const_args['noise']\n",
    "    args['name'] = step[0]\n",
    "    args['D'] = step[1]\n",
    "    args['d'] = step[2]\n",
    "    return args"
   ]
  },
  {
   "cell_type": "code",
   "execution_count": 34,
   "metadata": {},
   "outputs": [],
   "source": [
    "N_steps = np.concatenate((np.arange(100, 1000, 200), \n",
    "                          np.arange(1000, 2000, 250), \n",
    "                          np.arange(2000, 3501, 500)))                      "
   ]
  },
  {
   "cell_type": "code",
   "execution_count": 35,
   "metadata": {},
   "outputs": [
    {
     "data": {
      "text/plain": [
       "array([ 100,  300,  500,  700,  900, 1000, 1250, 1500, 1750, 2000, 2500,\n",
       "       3000, 3500])"
      ]
     },
     "execution_count": 35,
     "metadata": {},
     "output_type": "execute_result"
    }
   ],
   "source": [
    "N_steps"
   ]
  },
  {
   "cell_type": "code",
   "execution_count": 36,
   "metadata": {},
   "outputs": [
    {
     "name": "stderr",
     "output_type": "stream",
     "text": [
      " 80%|████████  | 181/225 [00:28<00:09,  4.89it/s]"
     ]
    },
    {
     "name": "stdout",
     "output_type": "stream",
     "text": [
      "WRONG with {'N': 100, 'noise': 0, 'name': 'Nonlinear', 'D': 72, 'd': 12}\n"
     ]
    },
    {
     "name": "stderr",
     "output_type": "stream",
     "text": [
      "100%|██████████| 225/225 [00:37<00:00,  5.98it/s]\n"
     ]
    },
    {
     "name": "stdout",
     "output_type": "stream",
     "text": [
      "WRONG with {'N': 100, 'noise': 0, 'name': 'Cubic', 'D': 90, 'd': 70}\n"
     ]
    },
    {
     "name": "stderr",
     "output_type": "stream",
     "text": [
      "100%|██████████| 225/225 [01:32<00:00,  1.69it/s]\n",
      "100%|██████████| 225/225 [02:23<00:00,  1.14it/s]\n",
      "100%|██████████| 225/225 [03:30<00:00,  1.49s/it]\n",
      "100%|██████████| 225/225 [04:34<00:00,  1.89s/it]\n",
      "100%|██████████| 225/225 [05:04<00:00,  2.04s/it]\n",
      "100%|██████████| 225/225 [06:14<00:00,  2.31s/it]\n",
      "100%|██████████| 225/225 [07:58<00:00,  3.51s/it]\n",
      "100%|██████████| 225/225 [09:25<00:00,  3.68s/it]\n",
      "100%|██████████| 225/225 [11:16<00:00,  3.49s/it]\n",
      "100%|██████████| 225/225 [14:15<00:00,  7.76s/it]\n",
      "100%|██████████| 225/225 [19:06<00:00,  6.32s/it]\n",
      "100%|██████████| 225/225 [22:43<00:00, 10.58s/it]\n"
     ]
    }
   ],
   "source": [
    "names = DE.names\n",
    "n_repetition = 5\n",
    "\n",
    "mpe = []\n",
    "for N_i in N_steps:\n",
    "    args = {'N': N_i, 'noise': 0}\n",
    "    df = run_test(run_one_test, steps, args, n_repetition, 30)\n",
    "    dfr = df.round()\n",
    "    mpe_i = abs(dfr[names].sub(dfr['RealDim'], axis=0)).mul(dfr['RealDim']**-1, axis=0).mean(axis=0).values\n",
    "    mpe.append(mpe_i)\n",
    "\n",
    "mpe = np.array(mpe)"
   ]
  },
  {
   "cell_type": "code",
   "execution_count": 37,
   "metadata": {},
   "outputs": [
    {
     "data": {
      "image/png": "[encoded data removed]",
      "text/plain": [
       "<Figure size 864x576 with 1 Axes>"
      ]
     },
     "metadata": {
      "needs_background": "light"
     },
     "output_type": "display_data"
    }
   ],
   "source": [
    "f, ax = plt.subplots(1, 1, figsize=(12, 8))\n",
    "\n",
    "for mpe_i, name in zip(mpe.T, names):\n",
    "    ax.plot(N_steps, mpe_i, label=name)\n",
    "    \n",
    "ax.legend()\n",
    "ax.grid()\n",
    "plt.show()"
   ]
  },
  {
   "cell_type": "code",
   "execution_count": null,
   "metadata": {},
   "outputs": [],
   "source": [
    "result = pd.DataFrame(mpe, columns=names)\n",
    "result['N'] = N_steps\n",
    "result.to_csv('n_steps.csv', index=False)"
   ]
  },
  {
   "cell_type": "markdown",
   "metadata": {},
   "source": [
    "## Dolan More Curve"
   ]
  },
  {
   "cell_type": "code",
   "execution_count": 38,
   "metadata": {},
   "outputs": [],
   "source": [
    "DE = DimEst()\n",
    "DG = DataGenerator()"
   ]
  },
  {
   "cell_type": "code",
   "execution_count": 39,
   "metadata": {},
   "outputs": [
    {
     "data": {
      "text/plain": [
       "dict_keys(['Helix1d', 'Helix2d', 'Helicoid', 'Spiral', 'Roll', 'Scurve', 'Star', 'Moebius', 'Sphere', 'Norm', 'Uniform', 'Cubic', 'Affine_3to5', 'Affine', 'Nonlinear_4to6', 'Nonlinear', 'Paraboloid', 'Digits', 'Isomap', 'Hands', 'ISOLET', 'MNISTd'])"
      ]
     },
     "execution_count": 39,
     "metadata": {},
     "output_type": "execute_result"
    }
   ],
   "source": [
    "DG.dict_gen.keys()"
   ]
  },
  {
   "cell_type": "code",
   "execution_count": 40,
   "metadata": {},
   "outputs": [],
   "source": [
    "steps = [\n",
    "    ('Sphere',  5,  3),\n",
    "    ('Sphere',  10, 5),\n",
    "    ('Sphere',  15, 10),\n",
    "    ('Sphere',  35, 30),\n",
    "    ('Sphere',  55, 50),\n",
    "    ('Sphere',  75, 70),\n",
    "    \n",
    "    ('Affine_3to5',  5,  3),\n",
    "    ('Affine',       5,  5),\n",
    "    ('Affine',       10, 10),\n",
    "    ('Affine',       20, 20),\n",
    "    \n",
    "    ('Nonlinear_4to6',  6,  4),\n",
    "    ('Nonlinear',       8,  4),\n",
    "    ('Nonlinear',       36, 6),\n",
    "    ('Nonlinear',       64, 8),\n",
    "    ('Nonlinear',       72, 12),\n",
    "    \n",
    "    ('Spiral',   3,  1),\n",
    "    ('Spiral',   13, 1),\n",
    "    ('Helix1d',  3,  1),\n",
    "    ('Helix1d',  13, 1),\n",
    "    ('Helix2d',  3,  2),\n",
    "    ('Helix2d',  13, 2),\n",
    "    ('Helicoid', 3,  2),\n",
    "    ('Helicoid', 13, 2),\n",
    "    ('Roll',     3,  2),\n",
    "    ('Roll',     13, 2),\n",
    "    ('Scurve',   3,  2),\n",
    "    ('Scurve',   13, 2),\n",
    "    ('Moebius',  3,  2),\n",
    "    \n",
    "    ('Uniform', 10, 5),\n",
    "    ('Uniform', 15, 10),\n",
    "    ('Uniform', 35, 30),\n",
    "    ('Uniform', 55, 50),\n",
    "    ('Uniform', 75, 70),\n",
    "     \n",
    "    ('Norm', 20, 20),\n",
    "    ('Norm', 50, 20),\n",
    "    ('Norm', 50, 50),\n",
    "    ('Norm', 70, 50),\n",
    "    \n",
    "    ('Paraboloid', 12, 3),\n",
    "    ('Paraboloid', 21, 6),\n",
    "    ('Paraboloid', 30, 9),\n",
    "    ('Paraboloid', 39, 12),\n",
    "    ('Paraboloid', 48, 15),\n",
    "    \n",
    "    ('Cubic', 5,  3),\n",
    "    ('Cubic', 35, 30),\n",
    "    ('Cubic', 90, 70),\n",
    "]"
   ]
  },
  {
   "cell_type": "code",
   "execution_count": 41,
   "metadata": {},
   "outputs": [],
   "source": [
    "def add_args(const_args, step):\n",
    "    args = {**const_args}\n",
    "    args['name'] = step[0]\n",
    "    args['D'] = step[1]\n",
    "    args['d'] = step[2]\n",
    "    assert len({'name', 'D', 'd', 'N', 'noise'} & set(args.keys())) == 5\n",
    "    return args"
   ]
  },
  {
   "cell_type": "code",
   "execution_count": 42,
   "metadata": {},
   "outputs": [
    {
     "name": "stderr",
     "output_type": "stream",
     "text": [
      "100%|██████████| 225/225 [05:10<00:00,  2.29s/it]\n"
     ]
    }
   ],
   "source": [
    "n_repetition = 5\n",
    "args = {'N': 1000, 'noise': 0}\n",
    "df = run_test(run_one_test, steps, args, n_repetition, 30)"
   ]
  },
  {
   "cell_type": "code",
   "execution_count": 43,
   "metadata": {},
   "outputs": [
    {
     "data": {
      "text/html": [
       "<div>\n",
       "<style scoped>\n",
       "    .dataframe tbody tr th:only-of-type {\n",
       "        vertical-align: middle;\n",
       "    }\n",
       "\n",
       "    .dataframe tbody tr th {\n",
       "        vertical-align: top;\n",
       "    }\n",
       "\n",
       "    .dataframe thead th {\n",
       "        text-align: right;\n",
       "    }\n",
       "</style>\n",
       "<table border=\"1\" class=\"dataframe\">\n",
       "  <thead>\n",
       "    <tr style=\"text-align: right;\">\n",
       "      <th></th>\n",
       "      <th></th>\n",
       "      <th></th>\n",
       "      <th></th>\n",
       "      <th>MLE</th>\n",
       "      <th>GeoMLE</th>\n",
       "      <th>MIND</th>\n",
       "      <th>DANCo</th>\n",
       "      <th>ESS</th>\n",
       "      <th>PCA</th>\n",
       "    </tr>\n",
       "    <tr>\n",
       "      <th>Dataset</th>\n",
       "      <th>Num</th>\n",
       "      <th>Dim</th>\n",
       "      <th>RealDim</th>\n",
       "      <th></th>\n",
       "      <th></th>\n",
       "      <th></th>\n",
       "      <th></th>\n",
       "      <th></th>\n",
       "      <th></th>\n",
       "    </tr>\n",
       "  </thead>\n",
       "  <tbody>\n",
       "    <tr>\n",
       "      <th rowspan=\"3\" valign=\"top\">Affine</th>\n",
       "      <th rowspan=\"3\" valign=\"top\">1000.0</th>\n",
       "      <th>5.0</th>\n",
       "      <th>5.0</th>\n",
       "      <td>4.471013</td>\n",
       "      <td>5.000000</td>\n",
       "      <td>4.8</td>\n",
       "      <td>5.0</td>\n",
       "      <td>4.921080</td>\n",
       "      <td>5.0</td>\n",
       "    </tr>\n",
       "    <tr>\n",
       "      <th>10.0</th>\n",
       "      <th>10.0</th>\n",
       "      <td>8.020074</td>\n",
       "      <td>9.967841</td>\n",
       "      <td>8.0</td>\n",
       "      <td>10.0</td>\n",
       "      <td>9.965035</td>\n",
       "      <td>10.0</td>\n",
       "    </tr>\n",
       "    <tr>\n",
       "      <th>20.0</th>\n",
       "      <th>20.0</th>\n",
       "      <td>14.216112</td>\n",
       "      <td>18.807588</td>\n",
       "      <td>15.0</td>\n",
       "      <td>19.6</td>\n",
       "      <td>20.047375</td>\n",
       "      <td>20.0</td>\n",
       "    </tr>\n",
       "    <tr>\n",
       "      <th>Affine_3to5</th>\n",
       "      <th>1000.0</th>\n",
       "      <th>5.0</th>\n",
       "      <th>3.0</th>\n",
       "      <td>2.841891</td>\n",
       "      <td>3.154921</td>\n",
       "      <td>3.0</td>\n",
       "      <td>3.0</td>\n",
       "      <td>2.561339</td>\n",
       "      <td>3.0</td>\n",
       "    </tr>\n",
       "    <tr>\n",
       "      <th rowspan=\"3\" valign=\"top\">Cubic</th>\n",
       "      <th rowspan=\"3\" valign=\"top\">1000.0</th>\n",
       "      <th>5.0</th>\n",
       "      <th>3.0</th>\n",
       "      <td>3.070595</td>\n",
       "      <td>3.029847</td>\n",
       "      <td>3.0</td>\n",
       "      <td>3.2</td>\n",
       "      <td>4.047324</td>\n",
       "      <td>4.0</td>\n",
       "    </tr>\n",
       "    <tr>\n",
       "      <th>35.0</th>\n",
       "      <th>30.0</th>\n",
       "      <td>19.567014</td>\n",
       "      <td>29.789387</td>\n",
       "      <td>20.0</td>\n",
       "      <td>30.2</td>\n",
       "      <td>30.735383</td>\n",
       "      <td>31.0</td>\n",
       "    </tr>\n",
       "    <tr>\n",
       "      <th>90.0</th>\n",
       "      <th>70.0</th>\n",
       "      <td>34.292747</td>\n",
       "      <td>74.075070</td>\n",
       "      <td>35.8</td>\n",
       "      <td>72.8</td>\n",
       "      <td>70.225841</td>\n",
       "      <td>71.0</td>\n",
       "    </tr>\n",
       "    <tr>\n",
       "      <th rowspan=\"2\" valign=\"top\">Helicoid</th>\n",
       "      <th rowspan=\"2\" valign=\"top\">1000.0</th>\n",
       "      <th>3.0</th>\n",
       "      <th>2.0</th>\n",
       "      <td>2.080444</td>\n",
       "      <td>2.129945</td>\n",
       "      <td>2.0</td>\n",
       "      <td>2.0</td>\n",
       "      <td>1.838152</td>\n",
       "      <td>2.0</td>\n",
       "    </tr>\n",
       "    <tr>\n",
       "      <th>13.0</th>\n",
       "      <th>2.0</th>\n",
       "      <td>2.077040</td>\n",
       "      <td>2.125410</td>\n",
       "      <td>2.0</td>\n",
       "      <td>2.0</td>\n",
       "      <td>1.841390</td>\n",
       "      <td>2.0</td>\n",
       "    </tr>\n",
       "    <tr>\n",
       "      <th rowspan=\"2\" valign=\"top\">Helix1d</th>\n",
       "      <th rowspan=\"2\" valign=\"top\">1000.0</th>\n",
       "      <th>3.0</th>\n",
       "      <th>1.0</th>\n",
       "      <td>1.005704</td>\n",
       "      <td>1.360117</td>\n",
       "      <td>1.0</td>\n",
       "      <td>1.0</td>\n",
       "      <td>2.611800</td>\n",
       "      <td>3.0</td>\n",
       "    </tr>\n",
       "    <tr>\n",
       "      <th>13.0</th>\n",
       "      <th>1.0</th>\n",
       "      <td>1.004215</td>\n",
       "      <td>1.433301</td>\n",
       "      <td>1.0</td>\n",
       "      <td>1.0</td>\n",
       "      <td>2.642383</td>\n",
       "      <td>3.0</td>\n",
       "    </tr>\n",
       "    <tr>\n",
       "      <th rowspan=\"2\" valign=\"top\">Helix2d</th>\n",
       "      <th rowspan=\"2\" valign=\"top\">1000.0</th>\n",
       "      <th>3.0</th>\n",
       "      <th>2.0</th>\n",
       "      <td>2.748042</td>\n",
       "      <td>2.354156</td>\n",
       "      <td>2.6</td>\n",
       "      <td>3.0</td>\n",
       "      <td>2.537672</td>\n",
       "      <td>3.0</td>\n",
       "    </tr>\n",
       "    <tr>\n",
       "      <th>13.0</th>\n",
       "      <th>2.0</th>\n",
       "      <td>2.716542</td>\n",
       "      <td>2.512811</td>\n",
       "      <td>2.6</td>\n",
       "      <td>3.0</td>\n",
       "      <td>2.537081</td>\n",
       "      <td>3.0</td>\n",
       "    </tr>\n",
       "    <tr>\n",
       "      <th>Moebius</th>\n",
       "      <th>1000.0</th>\n",
       "      <th>3.0</th>\n",
       "      <th>2.0</th>\n",
       "      <td>1.988141</td>\n",
       "      <td>1.696466</td>\n",
       "      <td>2.0</td>\n",
       "      <td>2.0</td>\n",
       "      <td>2.301338</td>\n",
       "      <td>3.0</td>\n",
       "    </tr>\n",
       "    <tr>\n",
       "      <th rowspan=\"4\" valign=\"top\">Nonlinear</th>\n",
       "      <th rowspan=\"4\" valign=\"top\">1000.0</th>\n",
       "      <th>8.0</th>\n",
       "      <th>4.0</th>\n",
       "      <td>4.095118</td>\n",
       "      <td>3.370937</td>\n",
       "      <td>4.0</td>\n",
       "      <td>5.8</td>\n",
       "      <td>7.947985</td>\n",
       "      <td>8.0</td>\n",
       "    </tr>\n",
       "    <tr>\n",
       "      <th>36.0</th>\n",
       "      <th>6.0</th>\n",
       "      <td>6.723176</td>\n",
       "      <td>6.553553</td>\n",
       "      <td>6.0</td>\n",
       "      <td>8.2</td>\n",
       "      <td>12.061452</td>\n",
       "      <td>12.0</td>\n",
       "    </tr>\n",
       "    <tr>\n",
       "      <th>64.0</th>\n",
       "      <th>8.0</th>\n",
       "      <td>9.140094</td>\n",
       "      <td>10.298975</td>\n",
       "      <td>9.0</td>\n",
       "      <td>10.0</td>\n",
       "      <td>15.860018</td>\n",
       "      <td>16.0</td>\n",
       "    </tr>\n",
       "    <tr>\n",
       "      <th>72.0</th>\n",
       "      <th>12.0</th>\n",
       "      <td>13.499417</td>\n",
       "      <td>17.578370</td>\n",
       "      <td>13.6</td>\n",
       "      <td>18.0</td>\n",
       "      <td>24.223327</td>\n",
       "      <td>24.0</td>\n",
       "    </tr>\n",
       "    <tr>\n",
       "      <th>Nonlinear_4to6</th>\n",
       "      <th>1000.0</th>\n",
       "      <th>6.0</th>\n",
       "      <th>4.0</th>\n",
       "      <td>3.826850</td>\n",
       "      <td>4.072099</td>\n",
       "      <td>4.0</td>\n",
       "      <td>5.2</td>\n",
       "      <td>3.126722</td>\n",
       "      <td>5.2</td>\n",
       "    </tr>\n",
       "    <tr>\n",
       "      <th rowspan=\"4\" valign=\"top\">Norm</th>\n",
       "      <th rowspan=\"4\" valign=\"top\">1000.0</th>\n",
       "      <th>20.0</th>\n",
       "      <th>20.0</th>\n",
       "      <td>15.067934</td>\n",
       "      <td>20.000000</td>\n",
       "      <td>16.0</td>\n",
       "      <td>20.0</td>\n",
       "      <td>20.235422</td>\n",
       "      <td>20.0</td>\n",
       "    </tr>\n",
       "    <tr>\n",
       "      <th rowspan=\"2\" valign=\"top\">50.0</th>\n",
       "      <th>20.0</th>\n",
       "      <td>15.008998</td>\n",
       "      <td>22.092710</td>\n",
       "      <td>15.8</td>\n",
       "      <td>20.4</td>\n",
       "      <td>20.159151</td>\n",
       "      <td>20.0</td>\n",
       "    </tr>\n",
       "    <tr>\n",
       "      <th>50.0</th>\n",
       "      <td>26.938298</td>\n",
       "      <td>50.000000</td>\n",
       "      <td>28.4</td>\n",
       "      <td>47.4</td>\n",
       "      <td>50.078534</td>\n",
       "      <td>50.0</td>\n",
       "    </tr>\n",
       "    <tr>\n",
       "      <th>70.0</th>\n",
       "      <th>50.0</th>\n",
       "      <td>27.068310</td>\n",
       "      <td>53.040153</td>\n",
       "      <td>28.8</td>\n",
       "      <td>48.8</td>\n",
       "      <td>50.348946</td>\n",
       "      <td>50.0</td>\n",
       "    </tr>\n",
       "    <tr>\n",
       "      <th rowspan=\"5\" valign=\"top\">Paraboloid</th>\n",
       "      <th rowspan=\"5\" valign=\"top\">1000.0</th>\n",
       "      <th>12.0</th>\n",
       "      <th>3.0</th>\n",
       "      <td>2.831125</td>\n",
       "      <td>2.969896</td>\n",
       "      <td>3.0</td>\n",
       "      <td>3.0</td>\n",
       "      <td>1.768913</td>\n",
       "      <td>1.0</td>\n",
       "    </tr>\n",
       "    <tr>\n",
       "      <th>21.0</th>\n",
       "      <th>6.0</th>\n",
       "      <td>4.743536</td>\n",
       "      <td>5.815805</td>\n",
       "      <td>5.0</td>\n",
       "      <td>6.8</td>\n",
       "      <td>1.466591</td>\n",
       "      <td>1.0</td>\n",
       "    </tr>\n",
       "    <tr>\n",
       "      <th>30.0</th>\n",
       "      <th>9.0</th>\n",
       "      <td>5.902700</td>\n",
       "      <td>8.749548</td>\n",
       "      <td>6.0</td>\n",
       "      <td>8.0</td>\n",
       "      <td>1.311079</td>\n",
       "      <td>1.0</td>\n",
       "    </tr>\n",
       "    <tr>\n",
       "      <th>39.0</th>\n",
       "      <th>12.0</th>\n",
       "      <td>6.630340</td>\n",
       "      <td>11.796125</td>\n",
       "      <td>7.0</td>\n",
       "      <td>8.0</td>\n",
       "      <td>1.218722</td>\n",
       "      <td>1.0</td>\n",
       "    </tr>\n",
       "    <tr>\n",
       "      <th>48.0</th>\n",
       "      <th>15.0</th>\n",
       "      <td>7.019859</td>\n",
       "      <td>14.129548</td>\n",
       "      <td>7.6</td>\n",
       "      <td>9.0</td>\n",
       "      <td>1.162570</td>\n",
       "      <td>1.0</td>\n",
       "    </tr>\n",
       "    <tr>\n",
       "      <th rowspan=\"2\" valign=\"top\">Roll</th>\n",
       "      <th rowspan=\"2\" valign=\"top\">1000.0</th>\n",
       "      <th>3.0</th>\n",
       "      <th>2.0</th>\n",
       "      <td>1.942500</td>\n",
       "      <td>2.432492</td>\n",
       "      <td>2.0</td>\n",
       "      <td>2.0</td>\n",
       "      <td>2.963769</td>\n",
       "      <td>3.0</td>\n",
       "    </tr>\n",
       "    <tr>\n",
       "      <th>13.0</th>\n",
       "      <th>2.0</th>\n",
       "      <td>1.950628</td>\n",
       "      <td>2.593864</td>\n",
       "      <td>2.0</td>\n",
       "      <td>2.0</td>\n",
       "      <td>2.957664</td>\n",
       "      <td>3.0</td>\n",
       "    </tr>\n",
       "    <tr>\n",
       "      <th rowspan=\"2\" valign=\"top\">Scurve</th>\n",
       "      <th rowspan=\"2\" valign=\"top\">1000.0</th>\n",
       "      <th>3.0</th>\n",
       "      <th>2.0</th>\n",
       "      <td>1.951512</td>\n",
       "      <td>2.017161</td>\n",
       "      <td>2.0</td>\n",
       "      <td>2.0</td>\n",
       "      <td>2.222253</td>\n",
       "      <td>3.0</td>\n",
       "    </tr>\n",
       "    <tr>\n",
       "      <th>13.0</th>\n",
       "      <th>2.0</th>\n",
       "      <td>1.955164</td>\n",
       "      <td>2.028894</td>\n",
       "      <td>2.0</td>\n",
       "      <td>2.0</td>\n",
       "      <td>2.213636</td>\n",
       "      <td>3.0</td>\n",
       "    </tr>\n",
       "    <tr>\n",
       "      <th rowspan=\"6\" valign=\"top\">Sphere</th>\n",
       "      <th rowspan=\"6\" valign=\"top\">1000.0</th>\n",
       "      <th>5.0</th>\n",
       "      <th>3.0</th>\n",
       "      <td>2.960153</td>\n",
       "      <td>2.981396</td>\n",
       "      <td>3.0</td>\n",
       "      <td>3.0</td>\n",
       "      <td>4.030255</td>\n",
       "      <td>4.0</td>\n",
       "    </tr>\n",
       "    <tr>\n",
       "      <th>10.0</th>\n",
       "      <th>5.0</th>\n",
       "      <td>4.843860</td>\n",
       "      <td>4.937857</td>\n",
       "      <td>5.0</td>\n",
       "      <td>6.0</td>\n",
       "      <td>6.066284</td>\n",
       "      <td>6.0</td>\n",
       "    </tr>\n",
       "    <tr>\n",
       "      <th>15.0</th>\n",
       "      <th>10.0</th>\n",
       "      <td>8.813374</td>\n",
       "      <td>10.111159</td>\n",
       "      <td>9.0</td>\n",
       "      <td>11.4</td>\n",
       "      <td>11.075007</td>\n",
       "      <td>11.0</td>\n",
       "    </tr>\n",
       "    <tr>\n",
       "      <th>35.0</th>\n",
       "      <th>30.0</th>\n",
       "      <td>20.515328</td>\n",
       "      <td>31.523914</td>\n",
       "      <td>21.6</td>\n",
       "      <td>30.6</td>\n",
       "      <td>31.175613</td>\n",
       "      <td>31.0</td>\n",
       "    </tr>\n",
       "    <tr>\n",
       "      <th>55.0</th>\n",
       "      <th>50.0</th>\n",
       "      <td>28.610716</td>\n",
       "      <td>50.858115</td>\n",
       "      <td>30.4</td>\n",
       "      <td>50.4</td>\n",
       "      <td>50.817768</td>\n",
       "      <td>51.0</td>\n",
       "    </tr>\n",
       "    <tr>\n",
       "      <th>75.0</th>\n",
       "      <th>70.0</th>\n",
       "      <td>35.549612</td>\n",
       "      <td>70.181915</td>\n",
       "      <td>37.4</td>\n",
       "      <td>69.4</td>\n",
       "      <td>71.575428</td>\n",
       "      <td>71.0</td>\n",
       "    </tr>\n",
       "    <tr>\n",
       "      <th rowspan=\"2\" valign=\"top\">Spiral</th>\n",
       "      <th rowspan=\"2\" valign=\"top\">1000.0</th>\n",
       "      <th>3.0</th>\n",
       "      <th>1.0</th>\n",
       "      <td>1.788685</td>\n",
       "      <td>1.523860</td>\n",
       "      <td>1.0</td>\n",
       "      <td>1.0</td>\n",
       "      <td>2.093114</td>\n",
       "      <td>2.0</td>\n",
       "    </tr>\n",
       "    <tr>\n",
       "      <th>13.0</th>\n",
       "      <th>1.0</th>\n",
       "      <td>1.780426</td>\n",
       "      <td>1.430573</td>\n",
       "      <td>1.0</td>\n",
       "      <td>1.0</td>\n",
       "      <td>2.086734</td>\n",
       "      <td>2.0</td>\n",
       "    </tr>\n",
       "    <tr>\n",
       "      <th rowspan=\"5\" valign=\"top\">Uniform</th>\n",
       "      <th rowspan=\"5\" valign=\"top\">1000.0</th>\n",
       "      <th>10.0</th>\n",
       "      <th>5.0</th>\n",
       "      <td>4.477618</td>\n",
       "      <td>4.651074</td>\n",
       "      <td>4.8</td>\n",
       "      <td>5.0</td>\n",
       "      <td>5.012310</td>\n",
       "      <td>5.0</td>\n",
       "    </tr>\n",
       "    <tr>\n",
       "      <th>15.0</th>\n",
       "      <th>10.0</th>\n",
       "      <td>8.002896</td>\n",
       "      <td>8.947939</td>\n",
       "      <td>8.0</td>\n",
       "      <td>9.4</td>\n",
       "      <td>9.988378</td>\n",
       "      <td>10.0</td>\n",
       "    </tr>\n",
       "    <tr>\n",
       "      <th>35.0</th>\n",
       "      <th>30.0</th>\n",
       "      <td>19.187726</td>\n",
       "      <td>29.492222</td>\n",
       "      <td>19.8</td>\n",
       "      <td>30.6</td>\n",
       "      <td>30.545291</td>\n",
       "      <td>30.0</td>\n",
       "    </tr>\n",
       "    <tr>\n",
       "      <th>55.0</th>\n",
       "      <th>50.0</th>\n",
       "      <td>27.056050</td>\n",
       "      <td>49.712814</td>\n",
       "      <td>28.6</td>\n",
       "      <td>51.8</td>\n",
       "      <td>49.332950</td>\n",
       "      <td>50.0</td>\n",
       "    </tr>\n",
       "    <tr>\n",
       "      <th>75.0</th>\n",
       "      <th>70.0</th>\n",
       "      <td>33.806117</td>\n",
       "      <td>72.446160</td>\n",
       "      <td>35.6</td>\n",
       "      <td>72.4</td>\n",
       "      <td>69.188011</td>\n",
       "      <td>70.0</td>\n",
       "    </tr>\n",
       "  </tbody>\n",
       "</table>\n",
       "</div>"
      ],
      "text/plain": [
       "                                          MLE     GeoMLE  MIND  DANCo  \\\n",
       "Dataset        Num    Dim  RealDim                                      \n",
       "Affine         1000.0 5.0  5.0       4.471013   5.000000   4.8    5.0   \n",
       "                      10.0 10.0      8.020074   9.967841   8.0   10.0   \n",
       "                      20.0 20.0     14.216112  18.807588  15.0   19.6   \n",
       "Affine_3to5    1000.0 5.0  3.0       2.841891   3.154921   3.0    3.0   \n",
       "Cubic          1000.0 5.0  3.0       3.070595   3.029847   3.0    3.2   \n",
       "                      35.0 30.0     19.567014  29.789387  20.0   30.2   \n",
       "                      90.0 70.0     34.292747  74.075070  35.8   72.8   \n",
       "Helicoid       1000.0 3.0  2.0       2.080444   2.129945   2.0    2.0   \n",
       "                      13.0 2.0       2.077040   2.125410   2.0    2.0   \n",
       "Helix1d        1000.0 3.0  1.0       1.005704   1.360117   1.0    1.0   \n",
       "                      13.0 1.0       1.004215   1.433301   1.0    1.0   \n",
       "Helix2d        1000.0 3.0  2.0       2.748042   2.354156   2.6    3.0   \n",
       "                      13.0 2.0       2.716542   2.512811   2.6    3.0   \n",
       "Moebius        1000.0 3.0  2.0       1.988141   1.696466   2.0    2.0   \n",
       "Nonlinear      1000.0 8.0  4.0       4.095118   3.370937   4.0    5.8   \n",
       "                      36.0 6.0       6.723176   6.553553   6.0    8.2   \n",
       "                      64.0 8.0       9.140094  10.298975   9.0   10.0   \n",
       "                      72.0 12.0     13.499417  17.578370  13.6   18.0   \n",
       "Nonlinear_4to6 1000.0 6.0  4.0       3.826850   4.072099   4.0    5.2   \n",
       "Norm           1000.0 20.0 20.0     15.067934  20.000000  16.0   20.0   \n",
       "                      50.0 20.0     15.008998  22.092710  15.8   20.4   \n",
       "                           50.0     26.938298  50.000000  28.4   47.4   \n",
       "                      70.0 50.0     27.068310  53.040153  28.8   48.8   \n",
       "Paraboloid     1000.0 12.0 3.0       2.831125   2.969896   3.0    3.0   \n",
       "                      21.0 6.0       4.743536   5.815805   5.0    6.8   \n",
       "                      30.0 9.0       5.902700   8.749548   6.0    8.0   \n",
       "                      39.0 12.0      6.630340  11.796125   7.0    8.0   \n",
       "                      48.0 15.0      7.019859  14.129548   7.6    9.0   \n",
       "Roll           1000.0 3.0  2.0       1.942500   2.432492   2.0    2.0   \n",
       "                      13.0 2.0       1.950628   2.593864   2.0    2.0   \n",
       "Scurve         1000.0 3.0  2.0       1.951512   2.017161   2.0    2.0   \n",
       "                      13.0 2.0       1.955164   2.028894   2.0    2.0   \n",
       "Sphere         1000.0 5.0  3.0       2.960153   2.981396   3.0    3.0   \n",
       "                      10.0 5.0       4.843860   4.937857   5.0    6.0   \n",
       "                      15.0 10.0      8.813374  10.111159   9.0   11.4   \n",
       "                      35.0 30.0     20.515328  31.523914  21.6   30.6   \n",
       "                      55.0 50.0     28.610716  50.858115  30.4   50.4   \n",
       "                      75.0 70.0     35.549612  70.181915  37.4   69.4   \n",
       "Spiral         1000.0 3.0  1.0       1.788685   1.523860   1.0    1.0   \n",
       "                      13.0 1.0       1.780426   1.430573   1.0    1.0   \n",
       "Uniform        1000.0 10.0 5.0       4.477618   4.651074   4.8    5.0   \n",
       "                      15.0 10.0      8.002896   8.947939   8.0    9.4   \n",
       "                      35.0 30.0     19.187726  29.492222  19.8   30.6   \n",
       "                      55.0 50.0     27.056050  49.712814  28.6   51.8   \n",
       "                      75.0 70.0     33.806117  72.446160  35.6   72.4   \n",
       "\n",
       "                                          ESS   PCA  \n",
       "Dataset        Num    Dim  RealDim                   \n",
       "Affine         1000.0 5.0  5.0       4.921080   5.0  \n",
       "                      10.0 10.0      9.965035  10.0  \n",
       "                      20.0 20.0     20.047375  20.0  \n",
       "Affine_3to5    1000.0 5.0  3.0       2.561339   3.0  \n",
       "Cubic          1000.0 5.0  3.0       4.047324   4.0  \n",
       "                      35.0 30.0     30.735383  31.0  \n",
       "                      90.0 70.0     70.225841  71.0  \n",
       "Helicoid       1000.0 3.0  2.0       1.838152   2.0  \n",
       "                      13.0 2.0       1.841390   2.0  \n",
       "Helix1d        1000.0 3.0  1.0       2.611800   3.0  \n",
       "                      13.0 1.0       2.642383   3.0  \n",
       "Helix2d        1000.0 3.0  2.0       2.537672   3.0  \n",
       "                      13.0 2.0       2.537081   3.0  \n",
       "Moebius        1000.0 3.0  2.0       2.301338   3.0  \n",
       "Nonlinear      1000.0 8.0  4.0       7.947985   8.0  \n",
       "                      36.0 6.0      12.061452  12.0  \n",
       "                      64.0 8.0      15.860018  16.0  \n",
       "                      72.0 12.0     24.223327  24.0  \n",
       "Nonlinear_4to6 1000.0 6.0  4.0       3.126722   5.2  \n",
       "Norm           1000.0 20.0 20.0     20.235422  20.0  \n",
       "                      50.0 20.0     20.159151  20.0  \n",
       "                           50.0     50.078534  50.0  \n",
       "                      70.0 50.0     50.348946  50.0  \n",
       "Paraboloid     1000.0 12.0 3.0       1.768913   1.0  \n",
       "                      21.0 6.0       1.466591   1.0  \n",
       "                      30.0 9.0       1.311079   1.0  \n",
       "                      39.0 12.0      1.218722   1.0  \n",
       "                      48.0 15.0      1.162570   1.0  \n",
       "Roll           1000.0 3.0  2.0       2.963769   3.0  \n",
       "                      13.0 2.0       2.957664   3.0  \n",
       "Scurve         1000.0 3.0  2.0       2.222253   3.0  \n",
       "                      13.0 2.0       2.213636   3.0  \n",
       "Sphere         1000.0 5.0  3.0       4.030255   4.0  \n",
       "                      10.0 5.0       6.066284   6.0  \n",
       "                      15.0 10.0     11.075007  11.0  \n",
       "                      35.0 30.0     31.175613  31.0  \n",
       "                      55.0 50.0     50.817768  51.0  \n",
       "                      75.0 70.0     71.575428  71.0  \n",
       "Spiral         1000.0 3.0  1.0       2.093114   2.0  \n",
       "                      13.0 1.0       2.086734   2.0  \n",
       "Uniform        1000.0 10.0 5.0       5.012310   5.0  \n",
       "                      15.0 10.0      9.988378  10.0  \n",
       "                      35.0 30.0     30.545291  30.0  \n",
       "                      55.0 50.0     49.332950  50.0  \n",
       "                      75.0 70.0     69.188011  70.0  "
      ]
     },
     "execution_count": 43,
     "metadata": {},
     "output_type": "execute_result"
    }
   ],
   "source": [
    "df.groupby(['Dataset', 'Num', 'Dim', 'RealDim']).mean()"
   ]
  },
  {
   "cell_type": "code",
   "execution_count": 44,
   "metadata": {},
   "outputs": [
    {
     "data": {
      "image/png": "[encoded data removed]",
      "text/plain": [
       "<Figure size 864x576 with 1 Axes>"
      ]
     },
     "metadata": {
      "needs_background": "light"
     },
     "output_type": "display_data"
    }
   ],
   "source": [
    "dfr = df.copy().round()\n",
    "names = dfr.columns.difference(['Dataset', 'Num', 'Dim', 'RealDim'])\n",
    "\n",
    "f, ax = plt.subplots(1, 1, figsize=(12, 8))\n",
    "nsteps = 5001\n",
    "max_tau = 40\n",
    "errors_total = abs(dfr[names].sub(dfr['RealDim'], axis=0).values)\n",
    "errors_total = np.max([errors_total, np.ones_like(errors_total)], axis=0)\n",
    "\n",
    "\n",
    "taus = np.linspace(1, max_tau, nsteps)        \n",
    "rhos = np.zeros((nsteps, len(names)))\n",
    "for cnt, tau in enumerate(taus):\n",
    "    rhos[cnt] = np.sum(errors_total <= tau, axis=0)\n",
    "\n",
    "for i in range(len(names)):\n",
    "    ax.plot(taus, rhos[:,i]/errors_total.shape[0], label=names[i])\n",
    "\n",
    "ax.set_title('Dolan-More Curve')\n",
    "ax.legend()\n",
    "ax.grid()\n",
    "\n"
   ]
  },
  {
   "cell_type": "markdown",
   "metadata": {},
   "source": [
    "## Dependece on noise"
   ]
  },
  {
   "cell_type": "code",
   "execution_count": 45,
   "metadata": {},
   "outputs": [],
   "source": [
    "DE = DimEst()\n",
    "DG = DataGenerator()"
   ]
  },
  {
   "cell_type": "code",
   "execution_count": 46,
   "metadata": {},
   "outputs": [
    {
     "data": {
      "text/plain": [
       "dict_keys(['Helix1d', 'Helix2d', 'Helicoid', 'Spiral', 'Roll', 'Scurve', 'Star', 'Moebius', 'Sphere', 'Norm', 'Uniform', 'Cubic', 'Affine_3to5', 'Affine', 'Nonlinear_4to6', 'Nonlinear', 'Paraboloid', 'Digits', 'Isomap', 'Hands', 'ISOLET', 'MNISTd'])"
      ]
     },
     "execution_count": 46,
     "metadata": {},
     "output_type": "execute_result"
    }
   ],
   "source": [
    "DG.dict_gen.keys()"
   ]
  },
  {
   "cell_type": "code",
   "execution_count": 47,
   "metadata": {},
   "outputs": [],
   "source": [
    "steps = [\n",
    "    ('Sphere',  5,  3),\n",
    "    ('Sphere',  10, 5),\n",
    "    ('Sphere',  15, 10),\n",
    "    ('Sphere',  35, 30),\n",
    "    ('Sphere',  55, 50),\n",
    "    ('Sphere',  75, 70),\n",
    "    \n",
    "    ('Affine_3to5',  5,  3),\n",
    "    ('Affine',       5,  5),\n",
    "    ('Affine',       10, 10),\n",
    "    ('Affine',       20, 20),\n",
    "    \n",
    "    ('Nonlinear_4to6',  6,  4),\n",
    "    ('Nonlinear',       8,  4),\n",
    "    ('Nonlinear',       36, 6),\n",
    "    ('Nonlinear',       64, 8),\n",
    "    ('Nonlinear',       72, 12),\n",
    "    \n",
    "    ('Spiral',   3,  1),\n",
    "    ('Spiral',   13, 1),\n",
    "    ('Helix1d',  3,  1),\n",
    "    ('Helix1d',  13, 1),\n",
    "    ('Helix2d',  3,  2),\n",
    "    ('Helix2d',  13, 2),\n",
    "    ('Helicoid', 3,  2),\n",
    "    ('Helicoid', 13, 2),\n",
    "    ('Roll',     3,  2),\n",
    "    ('Roll',     13, 2),\n",
    "    ('Scurve',   3,  2),\n",
    "    ('Scurve',   13, 2),\n",
    "    ('Moebius',  3,  2),\n",
    "    \n",
    "    ('Uniform', 10, 5),\n",
    "    ('Uniform', 15, 10),\n",
    "    ('Uniform', 35, 30),\n",
    "    ('Uniform', 55, 50),\n",
    "    ('Uniform', 75, 70),\n",
    "     \n",
    "    ('Norm', 20, 20),\n",
    "    ('Norm', 50, 20),\n",
    "    ('Norm', 50, 50),\n",
    "    ('Norm', 70, 50),\n",
    "    \n",
    "    ('Paraboloid', 12, 3),\n",
    "    ('Paraboloid', 21, 6),\n",
    "    ('Paraboloid', 30, 9),\n",
    "    ('Paraboloid', 39, 12),\n",
    "    ('Paraboloid', 48, 15),\n",
    "    \n",
    "    ('Cubic', 5,  3),\n",
    "    ('Cubic', 35, 30),\n",
    "    ('Cubic', 90, 70),\n",
    "]"
   ]
  },
  {
   "cell_type": "code",
   "execution_count": 48,
   "metadata": {},
   "outputs": [
    {
     "data": {
      "text/plain": [
       "45"
      ]
     },
     "execution_count": 48,
     "metadata": {},
     "output_type": "execute_result"
    }
   ],
   "source": [
    "len(steps)"
   ]
  },
  {
   "cell_type": "code",
   "execution_count": 49,
   "metadata": {},
   "outputs": [],
   "source": [
    "def add_args(const_args, step):\n",
    "    args = {}\n",
    "    args['N'] = const_args['N']\n",
    "    args['noise'] = const_args['noise']\n",
    "    args['name'] = step[0]\n",
    "    args['D'] = step[1]\n",
    "    args['d'] = step[2]\n",
    "    return args"
   ]
  },
  {
   "cell_type": "code",
   "execution_count": 50,
   "metadata": {},
   "outputs": [],
   "source": [
    "noise_steps = [0, 0.01, 0.02, 0.03, 0.04, 0.05]                     "
   ]
  },
  {
   "cell_type": "code",
   "execution_count": 51,
   "metadata": {},
   "outputs": [
    {
     "name": "stderr",
     "output_type": "stream",
     "text": [
      "100%|██████████| 225/225 [04:44<00:00,  2.13s/it]\n",
      "100%|██████████| 225/225 [05:07<00:00,  2.34s/it]\n",
      "100%|██████████| 225/225 [05:15<00:00,  2.57s/it]\n",
      "100%|██████████| 225/225 [05:04<00:00,  1.58s/it]\n",
      "100%|██████████| 225/225 [05:09<00:00,  1.79s/it]\n",
      "100%|██████████| 225/225 [05:05<00:00,  1.75s/it]\n"
     ]
    }
   ],
   "source": [
    "names = DE.names\n",
    "n_repetition = 5\n",
    "\n",
    "mpe = []\n",
    "for noise in noise_steps:\n",
    "    args = {'N': 1000, 'noise': noise}\n",
    "    df = run_test(run_one_test, steps, args, n_repetition, 30)\n",
    "    dfr = df.round()\n",
    "    mpe_i = abs(dfr[names].sub(dfr['RealDim'], axis=0)).mul(dfr['RealDim']**-1, axis=0).mean(axis=0).values\n",
    "    mpe.append(mpe_i)\n",
    "\n",
    "mpe = np.array(mpe)"
   ]
  },
  {
   "cell_type": "code",
   "execution_count": 52,
   "metadata": {},
   "outputs": [
    {
     "data": {
      "image/png": "[encoded data removed]",
      "text/plain": [
       "<Figure size 864x576 with 1 Axes>"
      ]
     },
     "metadata": {
      "needs_background": "light"
     },
     "output_type": "display_data"
    }
   ],
   "source": [
    "f, ax = plt.subplots(1, 1, figsize=(12, 8))\n",
    "\n",
    "for mpe_i, name in zip(mpe.T, names):\n",
    "    ax.plot(noise_steps, mpe_i, label=name)\n",
    "    \n",
    "ax.legend()\n",
    "ax.grid()\n",
    "plt.show()"
   ]
  },
  {
   "cell_type": "code",
   "execution_count": 56,
   "metadata": {},
   "outputs": [],
   "source": [
    "result = pd.DataFrame(mpe, columns=names)\n",
    "result['noise'] = noise_steps\n",
    "result.to_csv('noise.csv', index=False)"
   ]
  },
  {
   "cell_type": "code",
   "execution_count": null,
   "metadata": {},
   "outputs": [],
   "source": []
  }
 ],
 "metadata": {
  "kernelspec": {
   "display_name": "Python 3",
   "language": "python",
   "name": "python3"
  },
  "language_info": {
   "codemirror_mode": {
    "name": "ipython",
    "version": 3
   },
   "file_extension": ".py",
   "mimetype": "text/x-python",
   "name": "python",
   "nbconvert_exporter": "python",
   "pygments_lexer": "ipython3",
   "version": "3.7.2"
  }
 },
 "nbformat": 4,
 "nbformat_minor": 2
}
